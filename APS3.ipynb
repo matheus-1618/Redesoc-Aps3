{
 "cells": [
  {
   "cell_type": "markdown",
   "id": "c1b4e3bc",
   "metadata": {},
   "source": [
    "# APS 3\n",
    "### Disciplina: Redes Sociais\n",
    "\n",
    "\n",
    "### Alunos:\n",
    "* Matheus Silva Melo de Oliveira\n",
    "* Nívea de Abreu de Dantas Lima\n",
    "* Ricardo Mourão Filho\n",
    "\n",
    "### Dataset escolhido: *Contiguous USA* \n",
    "These are the 48 contiguous states and the District of Columbia of the United States of America (the USA). They include all states except the states of Alaska and Hawaii, which are not connected by land with the other states, and include the District of Columbia (DC). An edge denotes that two states share a border. The US states in the configuration given by this dataset exist since February 14, 1912, when Arizona was admitted as the 48th state, and is current as of 2014. The states of Alaska and Hawaii were admitted as the 49th and 50th states in 1959, but are not contiguous with the other states, and are not reflected in this dataset.\n",
    "\n",
    "[Source](http://konect.cc/networks/contiguous-usa/)"
   ]
  },
  {
   "cell_type": "code",
   "execution_count": 1,
   "id": "24cea32b",
   "metadata": {},
   "outputs": [
    {
     "data": {
      "text/html": [
       "\n",
       "    <script src=\"/files/netpixi.min.js\"></script>\n"
      ],
      "text/plain": [
       "<IPython.core.display.HTML object>"
      ]
     },
     "metadata": {},
     "output_type": "display_data"
    }
   ],
   "source": [
    "from netpixi.integration.gt import Graph\n",
    "\n",
    "g = Graph(directed=False)"
   ]
  },
  {
   "cell_type": "markdown",
   "id": "56db8f0e",
   "metadata": {},
   "source": [
    "### Lendo o dataset, adicionando arestas e adicionando vértices"
   ]
  },
  {
   "cell_type": "code",
   "execution_count": 2,
   "id": "64f48956",
   "metadata": {},
   "outputs": [],
   "source": [
    "with open('./out.contiguous-usa', 'r') as f:\n",
    "    \n",
    "    while True:\n",
    "        linha = f.readline()\n",
    "        if not linha:\n",
    "            break\n",
    "        node1, node2 = int(linha.strip().split(\" \")[0]), int(linha.strip().split(\" \")[1])\n",
    "        try:\n",
    "            g.add_vertex(node1)\n",
    "            g.add_vertex(node2)\n",
    "        except Exception as inst:\n",
    "            try:\n",
    "                if int(str(inst).split(' ')[3]) == node1:\n",
    "                    g.add_vertex(node2)\n",
    "                else:\n",
    "                    g.add_vertex(node1)\n",
    "            except:\n",
    "                pass\n",
    "        finally:\n",
    "            g.add_edge(node1,node2)"
   ]
  },
  {
   "cell_type": "markdown",
   "id": "100e54a7",
   "metadata": {},
   "source": [
    "### Análise Exploratória"
   ]
  },
  {
   "cell_type": "markdown",
   "id": "ba8414c9",
   "metadata": {},
   "source": [
    "#### Número de vértices"
   ]
  },
  {
   "cell_type": "code",
   "execution_count": 30,
   "id": "137e00dc",
   "metadata": {},
   "outputs": [
    {
     "name": "stdout",
     "output_type": "stream",
     "text": [
      "Número de vértices de g: 49\n"
     ]
    }
   ],
   "source": [
    "n = g.num_vertices()\n",
    "print('Número de vértices de g:', n)"
   ]
  },
  {
   "cell_type": "markdown",
   "id": "976739c2",
   "metadata": {},
   "source": [
    "#### Número de arestas"
   ]
  },
  {
   "cell_type": "code",
   "execution_count": 31,
   "id": "1a7341ed",
   "metadata": {},
   "outputs": [
    {
     "name": "stdout",
     "output_type": "stream",
     "text": [
      "Número de arestas de g: 107\n"
     ]
    }
   ],
   "source": [
    "m = g.num_edges()\n",
    "print('Número de arestas de g:', m)"
   ]
  },
  {
   "cell_type": "markdown",
   "id": "3506b77e",
   "metadata": {},
   "source": [
    "#### Densidade"
   ]
  },
  {
   "cell_type": "code",
   "execution_count": 32,
   "id": "11f90f9a",
   "metadata": {},
   "outputs": [
    {
     "data": {
      "text/plain": [
       "1176"
      ]
     },
     "execution_count": 32,
     "metadata": {},
     "output_type": "execute_result"
    }
   ],
   "source": [
    "if g.is_directed():\n",
    "    max_edges = n * (n - 1)\n",
    "else:\n",
    "    max_edges = n * (n - 1) // 2\n",
    "max_edges"
   ]
  },
  {
   "cell_type": "code",
   "execution_count": 34,
   "id": "4b8faab7",
   "metadata": {},
   "outputs": [
    {
     "name": "stdout",
     "output_type": "stream",
     "text": [
      "Densidade é 0.09\n"
     ]
    }
   ],
   "source": [
    "d = m / max_edges\n",
    "d\n",
    "print(f'Densidade é {d:.2f}')"
   ]
  },
  {
   "cell_type": "markdown",
   "id": "7833ce84",
   "metadata": {},
   "source": [
    "### Estatísticas\n",
    "Iniciando o tratamento de dados."
   ]
  },
  {
   "cell_type": "code",
   "execution_count": 35,
   "id": "750f1bdf",
   "metadata": {},
   "outputs": [],
   "source": [
    "import warnings\n",
    "warnings.filterwarnings('ignore') "
   ]
  },
  {
   "cell_type": "code",
   "execution_count": 36,
   "id": "a8040977",
   "metadata": {
    "scrolled": true
   },
   "outputs": [],
   "source": [
    "import seaborn as sns\n",
    "from netpixi.integration.gt import *\n",
    "from regression.integration.gt import *"
   ]
  },
  {
   "cell_type": "code",
   "execution_count": 37,
   "id": "7dfde1a5",
   "metadata": {},
   "outputs": [
    {
     "data": {
      "text/html": [
       "<div>\n",
       "<style scoped>\n",
       "    .dataframe tbody tr th:only-of-type {\n",
       "        vertical-align: middle;\n",
       "    }\n",
       "\n",
       "    .dataframe tbody tr th {\n",
       "        vertical-align: top;\n",
       "    }\n",
       "\n",
       "    .dataframe thead th {\n",
       "        text-align: right;\n",
       "    }\n",
       "</style>\n",
       "<table border=\"1\" class=\"dataframe\">\n",
       "  <thead>\n",
       "    <tr style=\"text-align: right;\">\n",
       "      <th></th>\n",
       "    </tr>\n",
       "    <tr>\n",
       "      <th>id</th>\n",
       "    </tr>\n",
       "  </thead>\n",
       "  <tbody>\n",
       "    <tr>\n",
       "      <th>1</th>\n",
       "    </tr>\n",
       "    <tr>\n",
       "      <th>2</th>\n",
       "    </tr>\n",
       "    <tr>\n",
       "      <th>3</th>\n",
       "    </tr>\n",
       "    <tr>\n",
       "      <th>4</th>\n",
       "    </tr>\n",
       "    <tr>\n",
       "      <th>5</th>\n",
       "    </tr>\n",
       "  </tbody>\n",
       "</table>\n",
       "</div>"
      ],
      "text/plain": [
       "Empty DataFrame\n",
       "Columns: []\n",
       "Index: [1, 2, 3, 4, 5]"
      ]
     },
     "execution_count": 37,
     "metadata": {},
     "output_type": "execute_result"
    }
   ],
   "source": [
    "data = gt_data(g)\n",
    "data.head(5)"
   ]
  },
  {
   "cell_type": "markdown",
   "id": "160e0d59",
   "metadata": {},
   "source": [
    "Quantificando degrees"
   ]
  },
  {
   "cell_type": "code",
   "execution_count": 38,
   "id": "118ada44",
   "metadata": {},
   "outputs": [],
   "source": [
    "degrees = []\n",
    "for v in g.all_vertices():\n",
    "    degrees.append(v.total_degree())"
   ]
  },
  {
   "cell_type": "code",
   "execution_count": 39,
   "id": "4e6e0ac4",
   "metadata": {},
   "outputs": [
    {
     "data": {
      "text/html": [
       "<div>\n",
       "<style scoped>\n",
       "    .dataframe tbody tr th:only-of-type {\n",
       "        vertical-align: middle;\n",
       "    }\n",
       "\n",
       "    .dataframe tbody tr th {\n",
       "        vertical-align: top;\n",
       "    }\n",
       "\n",
       "    .dataframe thead th {\n",
       "        text-align: right;\n",
       "    }\n",
       "</style>\n",
       "<table border=\"1\" class=\"dataframe\">\n",
       "  <thead>\n",
       "    <tr style=\"text-align: right;\">\n",
       "      <th></th>\n",
       "      <th>degree</th>\n",
       "    </tr>\n",
       "    <tr>\n",
       "      <th>id</th>\n",
       "      <th></th>\n",
       "    </tr>\n",
       "  </thead>\n",
       "  <tbody>\n",
       "    <tr>\n",
       "      <th>1</th>\n",
       "      <td>4</td>\n",
       "    </tr>\n",
       "    <tr>\n",
       "      <th>2</th>\n",
       "      <td>2</td>\n",
       "    </tr>\n",
       "    <tr>\n",
       "      <th>3</th>\n",
       "      <td>5</td>\n",
       "    </tr>\n",
       "    <tr>\n",
       "      <th>4</th>\n",
       "      <td>4</td>\n",
       "    </tr>\n",
       "    <tr>\n",
       "      <th>5</th>\n",
       "      <td>8</td>\n",
       "    </tr>\n",
       "  </tbody>\n",
       "</table>\n",
       "</div>"
      ],
      "text/plain": [
       "    degree\n",
       "id        \n",
       "1        4\n",
       "2        2\n",
       "3        5\n",
       "4        4\n",
       "5        8"
      ]
     },
     "execution_count": 39,
     "metadata": {},
     "output_type": "execute_result"
    }
   ],
   "source": [
    "data['degree'] = degrees\n",
    "data.head(5)"
   ]
  },
  {
   "cell_type": "markdown",
   "id": "a2aafebe",
   "metadata": {},
   "source": [
    "#### Estatísitcas e Métricas Gerais"
   ]
  },
  {
   "cell_type": "code",
   "execution_count": 40,
   "id": "07925223",
   "metadata": {},
   "outputs": [
    {
     "data": {
      "text/html": [
       "<div>\n",
       "<style scoped>\n",
       "    .dataframe tbody tr th:only-of-type {\n",
       "        vertical-align: middle;\n",
       "    }\n",
       "\n",
       "    .dataframe tbody tr th {\n",
       "        vertical-align: top;\n",
       "    }\n",
       "\n",
       "    .dataframe thead th {\n",
       "        text-align: right;\n",
       "    }\n",
       "</style>\n",
       "<table border=\"1\" class=\"dataframe\">\n",
       "  <thead>\n",
       "    <tr style=\"text-align: right;\">\n",
       "      <th></th>\n",
       "      <th>degree</th>\n",
       "    </tr>\n",
       "  </thead>\n",
       "  <tbody>\n",
       "    <tr>\n",
       "      <th>count</th>\n",
       "      <td>49.000000</td>\n",
       "    </tr>\n",
       "    <tr>\n",
       "      <th>mean</th>\n",
       "      <td>4.367347</td>\n",
       "    </tr>\n",
       "    <tr>\n",
       "      <th>std</th>\n",
       "      <td>1.590255</td>\n",
       "    </tr>\n",
       "    <tr>\n",
       "      <th>min</th>\n",
       "      <td>1.000000</td>\n",
       "    </tr>\n",
       "    <tr>\n",
       "      <th>25%</th>\n",
       "      <td>3.000000</td>\n",
       "    </tr>\n",
       "    <tr>\n",
       "      <th>50%</th>\n",
       "      <td>4.000000</td>\n",
       "    </tr>\n",
       "    <tr>\n",
       "      <th>75%</th>\n",
       "      <td>6.000000</td>\n",
       "    </tr>\n",
       "    <tr>\n",
       "      <th>max</th>\n",
       "      <td>8.000000</td>\n",
       "    </tr>\n",
       "  </tbody>\n",
       "</table>\n",
       "</div>"
      ],
      "text/plain": [
       "          degree\n",
       "count  49.000000\n",
       "mean    4.367347\n",
       "std     1.590255\n",
       "min     1.000000\n",
       "25%     3.000000\n",
       "50%     4.000000\n",
       "75%     6.000000\n",
       "max     8.000000"
      ]
     },
     "execution_count": 40,
     "metadata": {},
     "output_type": "execute_result"
    }
   ],
   "source": [
    "data['degree'].describe().to_frame()"
   ]
  },
  {
   "cell_type": "markdown",
   "id": "9e0ad0dd",
   "metadata": {},
   "source": [
    "#### Histograma"
   ]
  },
  {
   "cell_type": "code",
   "execution_count": 41,
   "id": "70fa11ec",
   "metadata": {},
   "outputs": [
    {
     "data": {
      "text/plain": [
       "<AxesSubplot: xlabel='degree', ylabel='Count'>"
      ]
     },
     "execution_count": 41,
     "metadata": {},
     "output_type": "execute_result"
    },
    {
     "data": {
      "image/png": "[encoded data removed]",
      "text/plain": [
       "<Figure size 640x480 with 1 Axes>"
      ]
     },
     "metadata": {},
     "output_type": "display_data"
    }
   ],
   "source": [
    "sns.histplot(data['degree'])"
   ]
  },
  {
   "cell_type": "markdown",
   "id": "6ba39c21",
   "metadata": {},
   "source": [
    "### Análise Visual"
   ]
  },
  {
   "cell_type": "code",
   "execution_count": 42,
   "id": "83ecf79f",
   "metadata": {},
   "outputs": [],
   "source": [
    "import netpixi"
   ]
  },
  {
   "cell_type": "markdown",
   "id": "494f16ab",
   "metadata": {},
   "source": [
    "#### Salvando grafo em formato ZipNet"
   ]
  },
  {
   "cell_type": "code",
   "execution_count": 43,
   "id": "a2533ba6",
   "metadata": {},
   "outputs": [],
   "source": [
    "gt_save(g, 'Contiguous.net.gz')"
   ]
  },
  {
   "cell_type": "markdown",
   "id": "331aed28",
   "metadata": {},
   "source": [
    "#### Carregando modelo para visualização"
   ]
  },
  {
   "cell_type": "code",
   "execution_count": 44,
   "id": "91a26112",
   "metadata": {},
   "outputs": [],
   "source": [
    "g = gt_load('Contiguous.net.gz')"
   ]
  },
  {
   "cell_type": "markdown",
   "id": "cab3da19",
   "metadata": {},
   "source": [
    "#### Visualização inicial"
   ]
  },
  {
   "cell_type": "code",
   "execution_count": 45,
   "id": "572013ea",
   "metadata": {},
   "outputs": [
    {
     "data": {
      "text/html": [
       "\n",
       "        <div id=\"hopqaaTwdrUUyhLebWKGkL\"></div>\n",
       "        <script>netpixi.render('hopqaaTwdrUUyhLebWKGkL', 'Contiguous.net.gz', 1.7777777777777777, true, false, false);</script>\n",
       "    "
      ],
      "text/plain": [
       "<IPython.core.display.HTML object>"
      ]
     },
     "metadata": {},
     "output_type": "display_data"
    }
   ],
   "source": [
    "r1 = netpixi.render('Contiguous.net.gz');"
   ]
  },
  {
   "attachments": {},
   "cell_type": "markdown",
   "id": "1f960338",
   "metadata": {},
   "source": [
    "<img src=\"Contiguous.net.gz.png\">"
   ]
  },
  {
   "cell_type": "markdown",
   "id": "e3e1205f",
   "metadata": {},
   "source": [
    "#### Posicionando o grafo com a ideia de force-directed graph drawing"
   ]
  },
  {
   "cell_type": "code",
   "execution_count": 46,
   "id": "2adffd2b",
   "metadata": {
    "scrolled": true
   },
   "outputs": [
    {
     "data": {
      "text/html": [
       "\n",
       "        <div id=\"akZusfj97ms4iwPgYFUd7K\"></div>\n",
       "        <script>netpixi.render('akZusfj97ms4iwPgYFUd7K', 'Contiguousc_sfpd.net.gz', 1.7777777777777777, true, false, false);</script>\n",
       "    "
      ],
      "text/plain": [
       "<IPython.core.display.HTML object>"
      ]
     },
     "metadata": {},
     "output_type": "display_data"
    }
   ],
   "source": [
    "m = gt_draw.sfdp_layout(g)\n",
    "gt_move(g, m)\n",
    "gt_save(g, 'Contiguousc_sfpd.net.gz')\n",
    "r2 = netpixi.render('Contiguousc_sfpd.net.gz');"
   ]
  },
  {
   "cell_type": "code",
   "execution_count": 47,
   "id": "749431fe",
   "metadata": {},
   "outputs": [
    {
     "data": {
      "text/html": [
       "\n",
       "        <div id=\"4Wd82uzyEUM7gTzf7YFoA2\"></div>\n",
       "        <script>netpixi.call('4Wd82uzyEUM7gTzf7YFoA2', 'akZusfj97ms4iwPgYFUd7K', 'changeGraph', 'eyJ0eXBlIjogInNldHRpbmdzIiwgInByb3BzIjogeyJ2ZXJ0ZXgiOiB7InNpemUiOiAyMH19fQo=');</script>\n",
       "    "
      ],
      "text/plain": [
       "<IPython.core.display.HTML object>"
      ]
     },
     "metadata": {},
     "output_type": "display_data"
    },
    {
     "data": {
      "text/html": [
       "\n",
       "        <div id=\"cQrfuAxye8CCH48mM9FNCU\"></div>\n",
       "        <script>netpixi.call('cQrfuAxye8CCH48mM9FNCU', 'akZusfj97ms4iwPgYFUd7K', 'changeGraph', 'eyJ0eXBlIjogInNldHRpbmdzIiwgInByb3BzIjogeyJlZGdlIjogeyJ3aWR0aCI6IDV9fX0K');</script>\n",
       "    "
      ],
      "text/plain": [
       "<IPython.core.display.HTML object>"
      ]
     },
     "metadata": {},
     "output_type": "display_data"
    }
   ],
   "source": [
    "#Ajustando propriedades\n",
    "r2.vertex_default(size=20)\n",
    "r2.edge_default( width=5)"
   ]
  },
  {
   "attachments": {},
   "cell_type": "markdown",
   "id": "eccb7ff4",
   "metadata": {},
   "source": [
    "<img src=\"Contiguousc_sfpd.net.gz.png\">"
   ]
  },
  {
   "attachments": {},
   "cell_type": "markdown",
   "id": "38b3c595",
   "metadata": {},
   "source": [
    "#### Análise de periferia e centralidade"
   ]
  },
  {
   "cell_type": "code",
   "execution_count": 48,
   "id": "fe990f06",
   "metadata": {},
   "outputs": [],
   "source": [
    "import cpnet\n",
    "from graph_tool import spectral"
   ]
  },
  {
   "cell_type": "code",
   "execution_count": 2,
   "id": "97348954",
   "metadata": {},
   "outputs": [],
   "source": [
    "matrix = spectral.adjacency(g)\n",
    "\n",
    "# Além de cpnet.Surprise, há outras\n",
    "# opções de algoritmos discretos:\n",
    "# cpnet.BE\n",
    "# cpnet.Lip\n",
    "# cpnet.LapCore\n",
    "# cpnet.LapSgnCore\n",
    "# cpnet.LowRankCore\n",
    "\n",
    "algorithm = cpnet.Surprise()\n",
    "algorithm.detect(matrix)\n",
    "c = algorithm.get_coreness()\n",
    "\n",
    "# Depois do código acima, c é um dicionário\n",
    "# em que as chaves são índices de vértices e\n",
    "# valores são os atribuídos pelo algoritmo.\n",
    "\n",
    "g.add_vp('core')\n",
    "for i, coreness in c.items():\n",
    "    v = g.get_vertex_by_index(i)\n",
    "    v['core'] = int(coreness)\n",
    "    \n",
    "# Vamos pintar de vermelho todos os vértices\n",
    "# identificados como centro e de verde todos\n",
    "# os vértices identificados como periferia.\n",
    "    \n",
    "for v in g.all_vertices():\n",
    "    if v['core'] == 1:\n",
    "        r2.vertex(v['id'], color=0xff0000)\n",
    "    else:\n",
    "        r2.vertex(v['id'], color=0x00ff00)\n",
    "\n",
    "# Quando a execução desta célula terminar,\n",
    "# veja como ficou a visualização acima."
   ]
  },
  {
   "cell_type": "markdown",
   "id": "60a53a0b",
   "metadata": {},
   "source": [
    "<img src=\"discreto.png\">"
   ]
  },
  {
   "cell_type": "code",
   "execution_count": 1,
   "id": "1b312419",
   "metadata": {},
   "outputs": [],
   "source": [
    "matrix = spectral.adjacency(g)\n",
    "\n",
    "# Além de cpnet.Rombach, há outras\n",
    "# opções de algoritmos contínuos:\n",
    "# cpnet.MINRES\n",
    "# cpnet.Rossa\n",
    "\n",
    "algorithm = cpnet.Rombach()\n",
    "algorithm.detect(matrix)\n",
    "c = algorithm.get_coreness()\n",
    "\n",
    "# Depois do código acima, c é um dicionário\n",
    "# em que as chaves são índices de vértices e\n",
    "# valores são os atribuídos pelo algoritmo.\n",
    "\n",
    "g.add_vp('coreness')\n",
    "for i, coreness in c.items():\n",
    "    v = g.get_vertex_by_index(i)\n",
    "    v['coreness'] = float(coreness)\n",
    "\n",
    "# Vamos usar coreness como referência para\n",
    "# o tamanho dos vértices. Estabelecemos 10\n",
    "# como o menor tamanho possível e 40 como\n",
    "# o maior tamanho possível. Como o coreness\n",
    "# está entre 0 e 1, a conta é bem simples.\n",
    "\n",
    "for v in g.all_vertices():\n",
    "    r2.vertex(v['id'], size=(10 + 40 * v['coreness']))\n",
    "\n",
    "# Quando a execução desta célula terminar,\n",
    "# veja como ficou a visualização acima."
   ]
  },
  {
   "attachments": {},
   "cell_type": "markdown",
   "id": "d8396610",
   "metadata": {},
   "source": [
    "<img src=\"continuo.png\">"
   ]
  }
 ],
 "metadata": {
  "kernelspec": {
   "display_name": "Python 3 (ipykernel)",
   "language": "python",
   "name": "python3"
  },
  "language_info": {
   "codemirror_mode": {
    "name": "ipython",
    "version": 3
   },
   "file_extension": ".py",
   "mimetype": "text/x-python",
   "name": "python",
   "nbconvert_exporter": "python",
   "pygments_lexer": "ipython3",
   "version": "3.8.3"
  }
 },
 "nbformat": 4,
 "nbformat_minor": 5
}
